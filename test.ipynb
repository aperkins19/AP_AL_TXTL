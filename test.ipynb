{
 "cells": [
  {
   "cell_type": "code",
   "execution_count": 1,
   "metadata": {},
   "outputs": [],
   "source": [
    "from scripts.grid_generators import *\n",
    "from scripts.neural_networks import *\n",
    "from models.MavelliPURE import *\n",
    "\n",
    "from tensorflow.keras.losses import MeanSquaredLogarithmicError\n",
    "\n",
    "\n",
    "import numpy as np\n",
    "import pandas as pd\n",
    "import os\n",
    "from scipy.integrate import odeint\n",
    "import matplotlib.pyplot as plt\n"
   ]
  },
  {
   "cell_type": "code",
   "execution_count": 2,
   "metadata": {},
   "outputs": [],
   "source": [
    "Grid_Path = \"./datasets/grids/\"\n",
    "Plot_Path = \"./Plots/\"\n"
   ]
  },
  {
   "cell_type": "code",
   "execution_count": null,
   "metadata": {},
   "outputs": [],
   "source": []
  },
  {
   "cell_type": "code",
   "execution_count": 3,
   "metadata": {},
   "outputs": [],
   "source": [
    "TargetSpecies = {\n",
    "                     \"NTP\" : {\"Look_Up\": \"NTP\", \"initial_condition_vector_index\" : 0, \"max_conc_mM\" : 1500},\n",
    "                     \"tRNA\" : {\"Look_Up\" : \"T\", \"initial_condition_vector_index\" : 6, \"max_conc_mM\" : 1.9},\n",
    "                     \"Amino Acids\" : {\"Look_Up\" : \"A\", \"initial_condition_vector_index\" : 7, \"max_conc_mM\" : 300},\n",
    "                     \"Creatine_Phosphate\" : {\"Look_Up\" : \"CP\", \"initial_condition_vector_index\" : 8, \"max_conc_mM\" : 20000},\n",
    "                     \"TL Enzymes\" : {\"Look_Up\" : \"CTL\", \"initial_condition_vector_index\" : 10, \"max_conc_mM\" : 2.2}\n",
    "}\n",
    "\n",
    "# iterate over TargetSpecies and store that max concs in a list which is converted to a np.array\n",
    "max_concs_array = []\n",
    "for key in TargetSpecies:\n",
    "    max_concs_array.append(TargetSpecies[key][\"max_conc_mM\"])\n",
    "    \n",
    "max_concs_array = np.array(max_concs_array)"
   ]
  },
  {
   "cell_type": "code",
   "execution_count": 4,
   "metadata": {},
   "outputs": [],
   "source": [
    "PermissiblePercentagesOfMaxConcs = [0.1, 0.2, 0.3, 0.4, 0.5, 0.6, 0.7, 0.8, 0.9, 1.0]\n",
    "grid_size = 30\n",
    "NumOfTargetSpecies = len(TargetSpecies)"
   ]
  },
  {
   "cell_type": "code",
   "execution_count": 5,
   "metadata": {},
   "outputs": [],
   "source": [
    "initialgrid, array_to_avoid = generate_initial_grid(grid_size, max_concs_array, PermissiblePercentagesOfMaxConcs, NumOfTargetSpecies)\n",
    "\n",
    "initialgrid_df = pd.DataFrame(initialgrid, columns=TargetSpecies.keys())\n",
    "\n",
    "initialgrid_df.to_csv(Grid_Path+\"initial_grid_mM.csv\", index=None)"
   ]
  },
  {
   "cell_type": "markdown",
   "metadata": {},
   "source": [
    "# iterate over initial grid"
   ]
  },
  {
   "cell_type": "code",
   "execution_count": 6,
   "metadata": {},
   "outputs": [],
   "source": [
    "\n",
    "keysVar = ['NTP','NXP','nt','Ppi','ATr','a','T','A','CP','C','CTL']\n",
    "valuesVar = [1500,0,0,0,0,0,1.9,300,20000,0,2.2]\n",
    "\n",
    "initial_concs_dict = dict(zip(keysVar, valuesVar))\n"
   ]
  },
  {
   "cell_type": "code",
   "execution_count": 7,
   "metadata": {},
   "outputs": [],
   "source": [
    "TMAX = 6*60*60 # sec\n",
    "NSTEPS = TMAX"
   ]
  },
  {
   "cell_type": "code",
   "execution_count": 8,
   "metadata": {},
   "outputs": [],
   "source": [
    "\n",
    "endpoint_protein_concentrations = []\n",
    "\n",
    "for composition in initialgrid:\n",
    "    \n",
    "    original_concentrations = list(initial_concs_dict.values())\n",
    "    updated_concentrations = original_concentrations.copy()\n",
    "    \n",
    "    for new_conc, key in zip(composition, TargetSpecies):\n",
    "        \n",
    "        \n",
    "        index = TargetSpecies[key][\"initial_condition_vector_index\"]\n",
    "        \n",
    "        updated_concentrations[index] = new_conc\n",
    "        \n",
    "    \n",
    "    sol, time = solvePURE(TMAX, NSTEPS, updated_concentrations)\n",
    "    \n",
    "    # last time point and just get the polymerised protein at index 5\n",
    "    endpoint_protein_concentrations.append(sol[-1,:][5])\n",
    "    \n",
    "initialgrid_df[\"Predicted Final Protein\"] = endpoint_protein_concentrations\n"
   ]
  },
  {
   "cell_type": "markdown",
   "metadata": {},
   "source": [
    "# Train Neural Networks"
   ]
  },
  {
   "cell_type": "code",
   "execution_count": 9,
   "metadata": {},
   "outputs": [],
   "source": [
    "\n",
    "# Select the input data using the TargetSpecies.keys\n",
    "TargetSpeciesKeys = list(TargetSpecies.keys())\n",
    "x_train = initialgrid_df[TargetSpeciesKeys].values\n",
    "\n",
    "\n",
    "# produces np array of 1D\n",
    "y_train = initialgrid_df[\"Predicted Final Protein\"].values\n",
    "y_train  = np.expand_dims(y_train, axis=1)\n",
    "\n"
   ]
  },
  {
   "cell_type": "code",
   "execution_count": 10,
   "metadata": {},
   "outputs": [],
   "source": [
    "input_nodes = len(TargetSpecies)\n",
    "num_output_nodes = 1"
   ]
  },
  {
   "cell_type": "code",
   "execution_count": 11,
   "metadata": {},
   "outputs": [],
   "source": [
    "model = define_model(input_nodes, num_output_nodes)\n",
    "\n",
    "model.compile(optimizer='rmsprop',\n",
    "              loss=MeanSquaredLogarithmicError(),\n",
    "              metrics=['accuracy'])\n",
    "\n",
    "\n",
    "model.fit(x_train, y_train, epochs=10)\n",
    "\n"
   ]
  },
  {
   "cell_type": "code",
   "execution_count": 13,
   "metadata": {},
   "outputs": [
    {
     "name": "stdout",
     "output_type": "stream",
     "text": [
      "(1000, 5)\n",
      "<class 'numpy.ndarray'>\n",
      "[1.5e+02 5.7e-01 2.4e+02 1.4e+04 4.4e-01]\n"
     ]
    }
   ],
   "source": [
    "random_grid_size = 1000\n",
    "simulate_input, array_to_avoid = generate_random_grid(array_to_avoid, max_concs_array, random_grid_size, NumOfTargetSpecies, PermissiblePercentagesOfMaxConcs)\n",
    "\n",
    "print(simulate_input.shape)\n",
    "print(type(simulate_input))\n",
    "print(simulate_input[0])"
   ]
  },
  {
   "cell_type": "code",
   "execution_count": 14,
   "metadata": {},
   "outputs": [
    {
     "name": "stdout",
     "output_type": "stream",
     "text": [
      "32/32 [==============================] - 0s 2ms/step\n"
     ]
    }
   ],
   "source": [
    "predictions = model.predict(simulate_input)\n",
    "predictions = predictions.reshape(-1)\n",
    "\n",
    "\n",
    "simulate_input_preds = pd.DataFrame(simulate_input, columns = TargetSpeciesKeys)\n",
    "simulate_input_preds[\"Predicted Final Protein\"] = predictions\n",
    "simulate_input_preds"
   ]
  },
  {
   "cell_type": "code",
   "execution_count": 17,
   "metadata": {},
   "outputs": [
    {
     "data": {
      "text/html": [
       "<div>\n",
       "<style scoped>\n",
       "    .dataframe tbody tr th:only-of-type {\n",
       "        vertical-align: middle;\n",
       "    }\n",
       "\n",
       "    .dataframe tbody tr th {\n",
       "        vertical-align: top;\n",
       "    }\n",
       "\n",
       "    .dataframe thead th {\n",
       "        text-align: right;\n",
       "    }\n",
       "</style>\n",
       "<table border=\"1\" class=\"dataframe\">\n",
       "  <thead>\n",
       "    <tr style=\"text-align: right;\">\n",
       "      <th></th>\n",
       "      <th>NTP</th>\n",
       "      <th>tRNA</th>\n",
       "      <th>Amino Acids</th>\n",
       "      <th>Creatine_Phosphate</th>\n",
       "      <th>TL Enzymes</th>\n",
       "      <th>Predicted Final Protein</th>\n",
       "    </tr>\n",
       "  </thead>\n",
       "  <tbody>\n",
       "    <tr>\n",
       "      <th>0</th>\n",
       "      <td>1050.0</td>\n",
       "      <td>1.71</td>\n",
       "      <td>30.0</td>\n",
       "      <td>2000.0</td>\n",
       "      <td>1.10</td>\n",
       "      <td>2.365553</td>\n",
       "    </tr>\n",
       "    <tr>\n",
       "      <th>1</th>\n",
       "      <td>900.0</td>\n",
       "      <td>0.19</td>\n",
       "      <td>60.0</td>\n",
       "      <td>2000.0</td>\n",
       "      <td>0.22</td>\n",
       "      <td>-1.882362</td>\n",
       "    </tr>\n",
       "    <tr>\n",
       "      <th>2</th>\n",
       "      <td>900.0</td>\n",
       "      <td>0.76</td>\n",
       "      <td>60.0</td>\n",
       "      <td>2000.0</td>\n",
       "      <td>0.22</td>\n",
       "      <td>-1.905523</td>\n",
       "    </tr>\n",
       "    <tr>\n",
       "      <th>3</th>\n",
       "      <td>900.0</td>\n",
       "      <td>1.14</td>\n",
       "      <td>60.0</td>\n",
       "      <td>2000.0</td>\n",
       "      <td>1.54</td>\n",
       "      <td>-2.087475</td>\n",
       "    </tr>\n",
       "    <tr>\n",
       "      <th>4</th>\n",
       "      <td>900.0</td>\n",
       "      <td>1.52</td>\n",
       "      <td>60.0</td>\n",
       "      <td>2000.0</td>\n",
       "      <td>1.54</td>\n",
       "      <td>-2.106075</td>\n",
       "    </tr>\n",
       "    <tr>\n",
       "      <th>...</th>\n",
       "      <td>...</td>\n",
       "      <td>...</td>\n",
       "      <td>...</td>\n",
       "      <td>...</td>\n",
       "      <td>...</td>\n",
       "      <td>...</td>\n",
       "    </tr>\n",
       "    <tr>\n",
       "      <th>995</th>\n",
       "      <td>150.0</td>\n",
       "      <td>1.14</td>\n",
       "      <td>240.0</td>\n",
       "      <td>20000.0</td>\n",
       "      <td>1.98</td>\n",
       "      <td>-519.876526</td>\n",
       "    </tr>\n",
       "    <tr>\n",
       "      <th>996</th>\n",
       "      <td>150.0</td>\n",
       "      <td>1.90</td>\n",
       "      <td>240.0</td>\n",
       "      <td>20000.0</td>\n",
       "      <td>0.88</td>\n",
       "      <td>-519.911438</td>\n",
       "    </tr>\n",
       "    <tr>\n",
       "      <th>997</th>\n",
       "      <td>150.0</td>\n",
       "      <td>1.52</td>\n",
       "      <td>270.0</td>\n",
       "      <td>20000.0</td>\n",
       "      <td>1.32</td>\n",
       "      <td>-522.962891</td>\n",
       "    </tr>\n",
       "    <tr>\n",
       "      <th>998</th>\n",
       "      <td>150.0</td>\n",
       "      <td>1.14</td>\n",
       "      <td>270.0</td>\n",
       "      <td>20000.0</td>\n",
       "      <td>0.88</td>\n",
       "      <td>-523.029419</td>\n",
       "    </tr>\n",
       "    <tr>\n",
       "      <th>999</th>\n",
       "      <td>150.0</td>\n",
       "      <td>0.38</td>\n",
       "      <td>270.0</td>\n",
       "      <td>20000.0</td>\n",
       "      <td>1.76</td>\n",
       "      <td>-523.217163</td>\n",
       "    </tr>\n",
       "  </tbody>\n",
       "</table>\n",
       "<p>1000 rows × 6 columns</p>\n",
       "</div>"
      ],
      "text/plain": [
       "        NTP  tRNA  Amino Acids  Creatine_Phosphate  TL Enzymes  \\\n",
       "0    1050.0  1.71         30.0              2000.0        1.10   \n",
       "1     900.0  0.19         60.0              2000.0        0.22   \n",
       "2     900.0  0.76         60.0              2000.0        0.22   \n",
       "3     900.0  1.14         60.0              2000.0        1.54   \n",
       "4     900.0  1.52         60.0              2000.0        1.54   \n",
       "..      ...   ...          ...                 ...         ...   \n",
       "995   150.0  1.14        240.0             20000.0        1.98   \n",
       "996   150.0  1.90        240.0             20000.0        0.88   \n",
       "997   150.0  1.52        270.0             20000.0        1.32   \n",
       "998   150.0  1.14        270.0             20000.0        0.88   \n",
       "999   150.0  0.38        270.0             20000.0        1.76   \n",
       "\n",
       "     Predicted Final Protein  \n",
       "0                   2.365553  \n",
       "1                  -1.882362  \n",
       "2                  -1.905523  \n",
       "3                  -2.087475  \n",
       "4                  -2.106075  \n",
       "..                       ...  \n",
       "995              -519.876526  \n",
       "996              -519.911438  \n",
       "997              -522.962891  \n",
       "998              -523.029419  \n",
       "999              -523.217163  \n",
       "\n",
       "[1000 rows x 6 columns]"
      ]
     },
     "execution_count": 17,
     "metadata": {},
     "output_type": "execute_result"
    }
   ],
   "source": [
    "simulate_input_preds = simulate_input_preds.sort_values(by ='Predicted Final Protein', ascending=False)\n",
    "simulate_input_preds.reset_index(drop=True, inplace=True)\n",
    "simulate_input_preds"
   ]
  },
  {
   "cell_type": "code",
   "execution_count": 18,
   "metadata": {},
   "outputs": [
    {
     "data": {
      "text/plain": [
       "<bound method NDFrame.head of        NTP  tRNA  Amino Acids  Creatine_Phosphate  TL Enzymes  \\\n",
       "0   1050.0  1.71         30.0              2000.0        1.10   \n",
       "1    900.0  0.19         60.0              2000.0        0.22   \n",
       "2    900.0  0.76         60.0              2000.0        0.22   \n",
       "3    900.0  1.14         60.0              2000.0        1.54   \n",
       "4    900.0  1.52         60.0              2000.0        1.54   \n",
       "..     ...   ...          ...                 ...         ...   \n",
       "95   300.0  0.95         90.0              2000.0        0.66   \n",
       "96   450.0  0.19        210.0              2000.0        1.98   \n",
       "97  1350.0  1.71        300.0              4000.0        0.88   \n",
       "98  1050.0  0.38        150.0              4000.0        1.10   \n",
       "99  1050.0  1.33        150.0              4000.0        0.44   \n",
       "\n",
       "    Predicted Final Protein  \n",
       "0                  2.365553  \n",
       "1                 -1.882362  \n",
       "2                 -1.905523  \n",
       "3                 -2.087475  \n",
       "4                 -2.106075  \n",
       "..                      ...  \n",
       "95               -40.680984  \n",
       "96               -42.854446  \n",
       "97               -42.998238  \n",
       "98               -43.592018  \n",
       "99               -43.603363  \n",
       "\n",
       "[100 rows x 6 columns]>"
      ]
     },
     "execution_count": 18,
     "metadata": {},
     "output_type": "execute_result"
    }
   ],
   "source": [
    "Top_performing_predictions = simulate_input_preds.iloc[:100,:].copy()\n",
    "Top_performing_predictions.head"
   ]
  },
  {
   "cell_type": "code",
   "execution_count": null,
   "metadata": {},
   "outputs": [],
   "source": []
  }
 ],
 "metadata": {
  "kernelspec": {
   "display_name": "Python 3",
   "language": "python",
   "name": "python3"
  },
  "language_info": {
   "codemirror_mode": {
    "name": "ipython",
    "version": 3
   },
   "file_extension": ".py",
   "mimetype": "text/x-python",
   "name": "python",
   "nbconvert_exporter": "python",
   "pygments_lexer": "ipython3",
   "version": "3.8.10"
  }
 },
 "nbformat": 4,
 "nbformat_minor": 2
}
